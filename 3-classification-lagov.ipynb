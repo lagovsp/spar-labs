{
 "cells": [
  {
   "cell_type": "markdown",
   "source": [
    "# In this problem you do not have to predict actual price but a price range indicating how high the price is\n",
    "\n",
    "# Sergey Lagov IU8-82"
   ],
   "metadata": {
    "collapsed": false
   },
   "id": "5bf6bb71a8ce42f0"
  },
  {
   "cell_type": "code",
   "execution_count": 240,
   "outputs": [
    {
     "name": "stdout",
     "output_type": "stream",
     "text": [
      "<class 'pandas.core.frame.DataFrame'>\n",
      "RangeIndex: 2000 entries, 0 to 1999\n",
      "Data columns (total 21 columns):\n",
      " #   Column         Non-Null Count  Dtype  \n",
      "---  ------         --------------  -----  \n",
      " 0   battery_power  2000 non-null   int64  \n",
      " 1   blue           2000 non-null   int64  \n",
      " 2   clock_speed    2000 non-null   float64\n",
      " 3   dual_sim       2000 non-null   int64  \n",
      " 4   fc             2000 non-null   int64  \n",
      " 5   four_g         2000 non-null   int64  \n",
      " 6   int_memory     2000 non-null   int64  \n",
      " 7   m_dep          2000 non-null   float64\n",
      " 8   mobile_wt      2000 non-null   int64  \n",
      " 9   n_cores        2000 non-null   int64  \n",
      " 10  pc             2000 non-null   int64  \n",
      " 11  px_height      2000 non-null   int64  \n",
      " 12  px_width       2000 non-null   int64  \n",
      " 13  ram            2000 non-null   int64  \n",
      " 14  sc_h           2000 non-null   int64  \n",
      " 15  sc_w           2000 non-null   int64  \n",
      " 16  talk_time      2000 non-null   int64  \n",
      " 17  three_g        2000 non-null   int64  \n",
      " 18  touch_screen   2000 non-null   int64  \n",
      " 19  wifi           2000 non-null   int64  \n",
      " 20  price_range    2000 non-null   int64  \n",
      "dtypes: float64(2), int64(19)\n",
      "memory usage: 328.3 KB\n"
     ]
    }
   ],
   "source": [
    "import pandas as pd\n",
    "import matplotlib.pyplot as plt\n",
    "import seaborn as sns\n",
    "from sklearn.model_selection import train_test_split\n",
    "from sklearn.preprocessing import StandardScaler, MinMaxScaler\n",
    "from sklearn.metrics import confusion_matrix, classification_report\n",
    "from sklearn.linear_model import LogisticRegression\n",
    "from sklearn.naive_bayes import GaussianNB, CategoricalNB\n",
    "from sklearn.tree import DecisionTreeClassifier\n",
    "from sklearn.svm import SVC\n",
    "\n",
    "# Сперва немного изучим датасеты\n",
    "TRAIN_FILENAME = 'mobile_train.csv'\n",
    "TEST_FILENAME = 'mobile_test.csv'\n",
    "\n",
    "dfTrain = pd.read_csv(TRAIN_FILENAME)\n",
    "dfTest = pd.read_csv(TEST_FILENAME)\n",
    "\n",
    "dfTrain.info()"
   ],
   "metadata": {
    "collapsed": false,
    "ExecuteTime": {
     "end_time": "2024-05-04T13:43:11.630218Z",
     "start_time": "2024-05-04T13:43:11.583128Z"
    }
   },
   "id": "initial_id"
  },
  {
   "cell_type": "code",
   "execution_count": 241,
   "outputs": [
    {
     "name": "stdout",
     "output_type": "stream",
     "text": [
      "<class 'pandas.core.frame.DataFrame'>\n",
      "RangeIndex: 1000 entries, 0 to 999\n",
      "Data columns (total 21 columns):\n",
      " #   Column         Non-Null Count  Dtype  \n",
      "---  ------         --------------  -----  \n",
      " 0   id             1000 non-null   int64  \n",
      " 1   battery_power  1000 non-null   int64  \n",
      " 2   blue           1000 non-null   int64  \n",
      " 3   clock_speed    1000 non-null   float64\n",
      " 4   dual_sim       1000 non-null   int64  \n",
      " 5   fc             1000 non-null   int64  \n",
      " 6   four_g         1000 non-null   int64  \n",
      " 7   int_memory     1000 non-null   int64  \n",
      " 8   m_dep          1000 non-null   float64\n",
      " 9   mobile_wt      1000 non-null   int64  \n",
      " 10  n_cores        1000 non-null   int64  \n",
      " 11  pc             1000 non-null   int64  \n",
      " 12  px_height      1000 non-null   int64  \n",
      " 13  px_width       1000 non-null   int64  \n",
      " 14  ram            1000 non-null   int64  \n",
      " 15  sc_h           1000 non-null   int64  \n",
      " 16  sc_w           1000 non-null   int64  \n",
      " 17  talk_time      1000 non-null   int64  \n",
      " 18  three_g        1000 non-null   int64  \n",
      " 19  touch_screen   1000 non-null   int64  \n",
      " 20  wifi           1000 non-null   int64  \n",
      "dtypes: float64(2), int64(19)\n",
      "memory usage: 164.2 KB\n"
     ]
    }
   ],
   "source": [
    "# в задании на кегле сказано, что нам надо предсказать диапазон цены — в тестовой выборке нет параметры диапазона цены — будем работать только в рамках тренировочного сета\n",
    "dfTest.info()"
   ],
   "metadata": {
    "collapsed": false,
    "ExecuteTime": {
     "end_time": "2024-05-04T13:43:11.630481Z",
     "start_time": "2024-05-04T13:43:11.595855Z"
    }
   },
   "id": "490a60dc7a49d332"
  },
  {
   "cell_type": "code",
   "execution_count": 242,
   "outputs": [
    {
     "data": {
      "text/plain": "                count        mean          std    min      25%     50%  \\\nbattery_power  2000.0  1238.51850   439.418206  501.0   851.75  1226.0   \nblue           2000.0     0.49500     0.500100    0.0     0.00     0.0   \nclock_speed    2000.0     1.52225     0.816004    0.5     0.70     1.5   \ndual_sim       2000.0     0.50950     0.500035    0.0     0.00     1.0   \nfc             2000.0     4.30950     4.341444    0.0     1.00     3.0   \nfour_g         2000.0     0.52150     0.499662    0.0     0.00     1.0   \nint_memory     2000.0    32.04650    18.145715    2.0    16.00    32.0   \nm_dep          2000.0     0.50175     0.288416    0.1     0.20     0.5   \nmobile_wt      2000.0   140.24900    35.399655   80.0   109.00   141.0   \nn_cores        2000.0     4.52050     2.287837    1.0     3.00     4.0   \npc             2000.0     9.91650     6.064315    0.0     5.00    10.0   \npx_height      2000.0   645.10800   443.780811    0.0   282.75   564.0   \npx_width       2000.0  1251.51550   432.199447  500.0   874.75  1247.0   \nram            2000.0  2124.21300  1084.732044  256.0  1207.50  2146.5   \nsc_h           2000.0    12.30650     4.213245    5.0     9.00    12.0   \nsc_w           2000.0     5.76700     4.356398    0.0     2.00     5.0   \ntalk_time      2000.0    11.01100     5.463955    2.0     6.00    11.0   \nthree_g        2000.0     0.76150     0.426273    0.0     1.00     1.0   \ntouch_screen   2000.0     0.50300     0.500116    0.0     0.00     1.0   \nwifi           2000.0     0.50700     0.500076    0.0     0.00     1.0   \nprice_range    2000.0     1.50000     1.118314    0.0     0.75     1.5   \n\n                   75%     max  \nbattery_power  1615.25  1998.0  \nblue              1.00     1.0  \nclock_speed       2.20     3.0  \ndual_sim          1.00     1.0  \nfc                7.00    19.0  \nfour_g            1.00     1.0  \nint_memory       48.00    64.0  \nm_dep             0.80     1.0  \nmobile_wt       170.00   200.0  \nn_cores           7.00     8.0  \npc               15.00    20.0  \npx_height       947.25  1960.0  \npx_width       1633.00  1998.0  \nram            3064.50  3998.0  \nsc_h             16.00    19.0  \nsc_w              9.00    18.0  \ntalk_time        16.00    20.0  \nthree_g           1.00     1.0  \ntouch_screen      1.00     1.0  \nwifi              1.00     1.0  \nprice_range       2.25     3.0  ",
      "text/html": "<div>\n<style scoped>\n    .dataframe tbody tr th:only-of-type {\n        vertical-align: middle;\n    }\n\n    .dataframe tbody tr th {\n        vertical-align: top;\n    }\n\n    .dataframe thead th {\n        text-align: right;\n    }\n</style>\n<table border=\"1\" class=\"dataframe\">\n  <thead>\n    <tr style=\"text-align: right;\">\n      <th></th>\n      <th>count</th>\n      <th>mean</th>\n      <th>std</th>\n      <th>min</th>\n      <th>25%</th>\n      <th>50%</th>\n      <th>75%</th>\n      <th>max</th>\n    </tr>\n  </thead>\n  <tbody>\n    <tr>\n      <th>battery_power</th>\n      <td>2000.0</td>\n      <td>1238.51850</td>\n      <td>439.418206</td>\n      <td>501.0</td>\n      <td>851.75</td>\n      <td>1226.0</td>\n      <td>1615.25</td>\n      <td>1998.0</td>\n    </tr>\n    <tr>\n      <th>blue</th>\n      <td>2000.0</td>\n      <td>0.49500</td>\n      <td>0.500100</td>\n      <td>0.0</td>\n      <td>0.00</td>\n      <td>0.0</td>\n      <td>1.00</td>\n      <td>1.0</td>\n    </tr>\n    <tr>\n      <th>clock_speed</th>\n      <td>2000.0</td>\n      <td>1.52225</td>\n      <td>0.816004</td>\n      <td>0.5</td>\n      <td>0.70</td>\n      <td>1.5</td>\n      <td>2.20</td>\n      <td>3.0</td>\n    </tr>\n    <tr>\n      <th>dual_sim</th>\n      <td>2000.0</td>\n      <td>0.50950</td>\n      <td>0.500035</td>\n      <td>0.0</td>\n      <td>0.00</td>\n      <td>1.0</td>\n      <td>1.00</td>\n      <td>1.0</td>\n    </tr>\n    <tr>\n      <th>fc</th>\n      <td>2000.0</td>\n      <td>4.30950</td>\n      <td>4.341444</td>\n      <td>0.0</td>\n      <td>1.00</td>\n      <td>3.0</td>\n      <td>7.00</td>\n      <td>19.0</td>\n    </tr>\n    <tr>\n      <th>four_g</th>\n      <td>2000.0</td>\n      <td>0.52150</td>\n      <td>0.499662</td>\n      <td>0.0</td>\n      <td>0.00</td>\n      <td>1.0</td>\n      <td>1.00</td>\n      <td>1.0</td>\n    </tr>\n    <tr>\n      <th>int_memory</th>\n      <td>2000.0</td>\n      <td>32.04650</td>\n      <td>18.145715</td>\n      <td>2.0</td>\n      <td>16.00</td>\n      <td>32.0</td>\n      <td>48.00</td>\n      <td>64.0</td>\n    </tr>\n    <tr>\n      <th>m_dep</th>\n      <td>2000.0</td>\n      <td>0.50175</td>\n      <td>0.288416</td>\n      <td>0.1</td>\n      <td>0.20</td>\n      <td>0.5</td>\n      <td>0.80</td>\n      <td>1.0</td>\n    </tr>\n    <tr>\n      <th>mobile_wt</th>\n      <td>2000.0</td>\n      <td>140.24900</td>\n      <td>35.399655</td>\n      <td>80.0</td>\n      <td>109.00</td>\n      <td>141.0</td>\n      <td>170.00</td>\n      <td>200.0</td>\n    </tr>\n    <tr>\n      <th>n_cores</th>\n      <td>2000.0</td>\n      <td>4.52050</td>\n      <td>2.287837</td>\n      <td>1.0</td>\n      <td>3.00</td>\n      <td>4.0</td>\n      <td>7.00</td>\n      <td>8.0</td>\n    </tr>\n    <tr>\n      <th>pc</th>\n      <td>2000.0</td>\n      <td>9.91650</td>\n      <td>6.064315</td>\n      <td>0.0</td>\n      <td>5.00</td>\n      <td>10.0</td>\n      <td>15.00</td>\n      <td>20.0</td>\n    </tr>\n    <tr>\n      <th>px_height</th>\n      <td>2000.0</td>\n      <td>645.10800</td>\n      <td>443.780811</td>\n      <td>0.0</td>\n      <td>282.75</td>\n      <td>564.0</td>\n      <td>947.25</td>\n      <td>1960.0</td>\n    </tr>\n    <tr>\n      <th>px_width</th>\n      <td>2000.0</td>\n      <td>1251.51550</td>\n      <td>432.199447</td>\n      <td>500.0</td>\n      <td>874.75</td>\n      <td>1247.0</td>\n      <td>1633.00</td>\n      <td>1998.0</td>\n    </tr>\n    <tr>\n      <th>ram</th>\n      <td>2000.0</td>\n      <td>2124.21300</td>\n      <td>1084.732044</td>\n      <td>256.0</td>\n      <td>1207.50</td>\n      <td>2146.5</td>\n      <td>3064.50</td>\n      <td>3998.0</td>\n    </tr>\n    <tr>\n      <th>sc_h</th>\n      <td>2000.0</td>\n      <td>12.30650</td>\n      <td>4.213245</td>\n      <td>5.0</td>\n      <td>9.00</td>\n      <td>12.0</td>\n      <td>16.00</td>\n      <td>19.0</td>\n    </tr>\n    <tr>\n      <th>sc_w</th>\n      <td>2000.0</td>\n      <td>5.76700</td>\n      <td>4.356398</td>\n      <td>0.0</td>\n      <td>2.00</td>\n      <td>5.0</td>\n      <td>9.00</td>\n      <td>18.0</td>\n    </tr>\n    <tr>\n      <th>talk_time</th>\n      <td>2000.0</td>\n      <td>11.01100</td>\n      <td>5.463955</td>\n      <td>2.0</td>\n      <td>6.00</td>\n      <td>11.0</td>\n      <td>16.00</td>\n      <td>20.0</td>\n    </tr>\n    <tr>\n      <th>three_g</th>\n      <td>2000.0</td>\n      <td>0.76150</td>\n      <td>0.426273</td>\n      <td>0.0</td>\n      <td>1.00</td>\n      <td>1.0</td>\n      <td>1.00</td>\n      <td>1.0</td>\n    </tr>\n    <tr>\n      <th>touch_screen</th>\n      <td>2000.0</td>\n      <td>0.50300</td>\n      <td>0.500116</td>\n      <td>0.0</td>\n      <td>0.00</td>\n      <td>1.0</td>\n      <td>1.00</td>\n      <td>1.0</td>\n    </tr>\n    <tr>\n      <th>wifi</th>\n      <td>2000.0</td>\n      <td>0.50700</td>\n      <td>0.500076</td>\n      <td>0.0</td>\n      <td>0.00</td>\n      <td>1.0</td>\n      <td>1.00</td>\n      <td>1.0</td>\n    </tr>\n    <tr>\n      <th>price_range</th>\n      <td>2000.0</td>\n      <td>1.50000</td>\n      <td>1.118314</td>\n      <td>0.0</td>\n      <td>0.75</td>\n      <td>1.5</td>\n      <td>2.25</td>\n      <td>3.0</td>\n    </tr>\n  </tbody>\n</table>\n</div>"
     },
     "execution_count": 242,
     "metadata": {},
     "output_type": "execute_result"
    }
   ],
   "source": [
    "df = dfTrain\n",
    "df.describe().T"
   ],
   "metadata": {
    "collapsed": false,
    "ExecuteTime": {
     "end_time": "2024-05-04T13:43:11.631509Z",
     "start_time": "2024-05-04T13:43:11.602382Z"
    }
   },
   "id": "29c4661b29c761bd"
  },
  {
   "cell_type": "code",
   "execution_count": 243,
   "outputs": [
    {
     "data": {
      "text/plain": "array([1, 2, 3, 0])"
     },
     "execution_count": 243,
     "metadata": {},
     "output_type": "execute_result"
    }
   ],
   "source": [
    "TARGET = 'price_range'\n",
    "df[TARGET].unique()"
   ],
   "metadata": {
    "collapsed": false,
    "ExecuteTime": {
     "end_time": "2024-05-04T13:43:11.631624Z",
     "start_time": "2024-05-04T13:43:11.624211Z"
    }
   },
   "id": "8f5cf67a537d8618"
  },
  {
   "cell_type": "code",
   "execution_count": 244,
   "outputs": [
    {
     "data": {
      "text/plain": "<Axes: xlabel='price_range', ylabel='count'>"
     },
     "execution_count": 244,
     "metadata": {},
     "output_type": "execute_result"
    },
    {
     "data": {
      "text/plain": "<Figure size 1200x600 with 1 Axes>",
      "image/png": "[encoded data removed]"
     },
     "metadata": {},
     "output_type": "display_data"
    }
   ],
   "source": [
    "# проверка соотношения таргета — диапазон цены\n",
    "plt.figure(figsize=(12, 6))\n",
    "sns.countplot(x=TARGET, data=df, palette='bright', hue=TARGET)"
   ],
   "metadata": {
    "collapsed": false,
    "ExecuteTime": {
     "end_time": "2024-05-04T13:43:11.726623Z",
     "start_time": "2024-05-04T13:43:11.627170Z"
    }
   },
   "id": "d58c46e76c9c4759"
  },
  {
   "cell_type": "code",
   "execution_count": 245,
   "outputs": [
    {
     "name": "stdout",
     "output_type": "stream",
     "text": [
      "price_range\n",
      "1    500\n",
      "2    500\n",
      "3    500\n",
      "0    500\n",
      "Name: count, dtype: int64\n"
     ]
    }
   ],
   "source": [
    "print(df[TARGET].value_counts())\n",
    "# классы буквально поровну разделены — ок"
   ],
   "metadata": {
    "collapsed": false,
    "ExecuteTime": {
     "end_time": "2024-05-04T13:43:11.729186Z",
     "start_time": "2024-05-04T13:43:11.727076Z"
    }
   },
   "id": "df16a08d456a44da"
  },
  {
   "cell_type": "code",
   "execution_count": 246,
   "outputs": [
    {
     "name": "stdout",
     "output_type": "stream",
     "text": [
      "Xtrain 1400, Xtest 600, y_train 1400, y_test 600\n"
     ]
    }
   ],
   "source": [
    "# из mobile_test выделим тестовый набор\n",
    "X = df.drop(TARGET, axis=1)\n",
    "y = df[TARGET]\n",
    "\n",
    "# разделение данных\n",
    "RANDOM_STATE = 37\n",
    "# Всего 2000 записей, 0.3 * 2000 = 600 — на тесты, 2000 - 600 = 1400 — на обучение\n",
    "X_train, X_test, y_train, y_test = train_test_split(X, y, test_size=0.3, random_state=RANDOM_STATE)\n",
    "\n",
    "print(f'Xtrain {len(X_train)}, Xtest {len(X_test)}, y_train {len(y_train)}, y_test {len(y_test)}')\n",
    "# стандартизация данных для лучшей работы моделей\n",
    "# Основная цель применения StandardScaler заключается в том, чтобы привести признаки к стандартному нормальному распределению со средним значением 0 и дисперсией 1\n",
    "scaler = StandardScaler()\n",
    "scaled_X_train = scaler.fit_transform(X_train)\n",
    "scaled_X_test = scaler.transform(X_test)"
   ],
   "metadata": {
    "collapsed": false,
    "ExecuteTime": {
     "end_time": "2024-05-04T13:43:11.736210Z",
     "start_time": "2024-05-04T13:43:11.731477Z"
    }
   },
   "id": "2123367917986378"
  },
  {
   "cell_type": "code",
   "execution_count": 247,
   "outputs": [
    {
     "name": "stdout",
     "output_type": "stream",
     "text": [
      "Logistic Regression Confusion Matrix:\n",
      "[[144   1   0   0]\n",
      " [  5 133   4   0]\n",
      " [  0   8 159   2]\n",
      " [  0   0   2 142]]\n",
      "Logistic Regression Classification Report:\n",
      "              precision    recall  f1-score   support\n",
      "\n",
      "           0       0.97      0.99      0.98       145\n",
      "           1       0.94      0.94      0.94       142\n",
      "           2       0.96      0.94      0.95       169\n",
      "           3       0.99      0.99      0.99       144\n",
      "\n",
      "    accuracy                           0.96       600\n",
      "   macro avg       0.96      0.96      0.96       600\n",
      "weighted avg       0.96      0.96      0.96       600\n"
     ]
    }
   ],
   "source": [
    "# 1 Логистическая регрессия — замечательно!\n",
    "# среди 'multinomial', 'ovr' или 'auto' выбрали multinomial (он же auto) — он лучший\n",
    "# параметры на веса + смещение, потом в функцию активации, смотрим на вероятность принадлежности — чиназес\n",
    "model = LogisticRegression(multi_class='multinomial')\n",
    "\n",
    "model.fit(scaled_X_train, y_train)\n",
    "y_pred = model.predict(scaled_X_test)\n",
    "\n",
    "print(f'Logistic Regression Confusion Matrix:\\n{confusion_matrix(y_test, y_pred)}')\n",
    "print(f'Logistic Regression Classification Report:\\n{classification_report(y_test, y_pred)}')"
   ],
   "metadata": {
    "collapsed": false,
    "ExecuteTime": {
     "end_time": "2024-05-04T13:43:11.801177Z",
     "start_time": "2024-05-04T13:43:11.736647Z"
    }
   },
   "id": "fac7ec63b4849d36"
  },
  {
   "cell_type": "code",
   "execution_count": 248,
   "outputs": [
    {
     "data": {
      "text/plain": "DecisionTreeClassifier(max_depth=5, random_state=17)",
      "text/html": "<style>#sk-container-id-19 {\n  /* Definition of color scheme common for light and dark mode */\n  --sklearn-color-text: black;\n  --sklearn-color-line: gray;\n  /* Definition of color scheme for unfitted estimators */\n  --sklearn-color-unfitted-level-0: #fff5e6;\n  --sklearn-color-unfitted-level-1: #f6e4d2;\n  --sklearn-color-unfitted-level-2: #ffe0b3;\n  --sklearn-color-unfitted-level-3: chocolate;\n  /* Definition of color scheme for fitted estimators */\n  --sklearn-color-fitted-level-0: #f0f8ff;\n  --sklearn-color-fitted-level-1: #d4ebff;\n  --sklearn-color-fitted-level-2: #b3dbfd;\n  --sklearn-color-fitted-level-3: cornflowerblue;\n\n  /* Specific color for light theme */\n  --sklearn-color-text-on-default-background: var(--sg-text-color, var(--theme-code-foreground, var(--jp-content-font-color1, black)));\n  --sklearn-color-background: var(--sg-background-color, var(--theme-background, var(--jp-layout-color0, white)));\n  --sklearn-color-border-box: var(--sg-text-color, var(--theme-code-foreground, var(--jp-content-font-color1, black)));\n  --sklearn-color-icon: #696969;\n\n  @media (prefers-color-scheme: dark) {\n    /* Redefinition of color scheme for dark theme */\n    --sklearn-color-text-on-default-background: var(--sg-text-color, var(--theme-code-foreground, var(--jp-content-font-color1, white)));\n    --sklearn-color-background: var(--sg-background-color, var(--theme-background, var(--jp-layout-color0, #111)));\n    --sklearn-color-border-box: var(--sg-text-color, var(--theme-code-foreground, var(--jp-content-font-color1, white)));\n    --sklearn-color-icon: #878787;\n  }\n}\n\n#sk-container-id-19 {\n  color: var(--sklearn-color-text);\n}\n\n#sk-container-id-19 pre {\n  padding: 0;\n}\n\n#sk-container-id-19 input.sk-hidden--visually {\n  border: 0;\n  clip: rect(1px 1px 1px 1px);\n  clip: rect(1px, 1px, 1px, 1px);\n  height: 1px;\n  margin: -1px;\n  overflow: hidden;\n  padding: 0;\n  position: absolute;\n  width: 1px;\n}\n\n#sk-container-id-19 div.sk-dashed-wrapped {\n  border: 1px dashed var(--sklearn-color-line);\n  margin: 0 0.4em 0.5em 0.4em;\n  box-sizing: border-box;\n  padding-bottom: 0.4em;\n  background-color: var(--sklearn-color-background);\n}\n\n#sk-container-id-19 div.sk-container {\n  /* jupyter's `normalize.less` sets `[hidden] { display: none; }`\n     but bootstrap.min.css set `[hidden] { display: none !important; }`\n     so we also need the `!important` here to be able to override the\n     default hidden behavior on the sphinx rendered scikit-learn.org.\n     See: https://github.com/scikit-learn/scikit-learn/issues/21755 */\n  display: inline-block !important;\n  position: relative;\n}\n\n#sk-container-id-19 div.sk-text-repr-fallback {\n  display: none;\n}\n\ndiv.sk-parallel-item,\ndiv.sk-serial,\ndiv.sk-item {\n  /* draw centered vertical line to link estimators */\n  background-image: linear-gradient(var(--sklearn-color-text-on-default-background), var(--sklearn-color-text-on-default-background));\n  background-size: 2px 100%;\n  background-repeat: no-repeat;\n  background-position: center center;\n}\n\n/* Parallel-specific style estimator block */\n\n#sk-container-id-19 div.sk-parallel-item::after {\n  content: \"\";\n  width: 100%;\n  border-bottom: 2px solid var(--sklearn-color-text-on-default-background);\n  flex-grow: 1;\n}\n\n#sk-container-id-19 div.sk-parallel {\n  display: flex;\n  align-items: stretch;\n  justify-content: center;\n  background-color: var(--sklearn-color-background);\n  position: relative;\n}\n\n#sk-container-id-19 div.sk-parallel-item {\n  display: flex;\n  flex-direction: column;\n}\n\n#sk-container-id-19 div.sk-parallel-item:first-child::after {\n  align-self: flex-end;\n  width: 50%;\n}\n\n#sk-container-id-19 div.sk-parallel-item:last-child::after {\n  align-self: flex-start;\n  width: 50%;\n}\n\n#sk-container-id-19 div.sk-parallel-item:only-child::after {\n  width: 0;\n}\n\n/* Serial-specific style estimator block */\n\n#sk-container-id-19 div.sk-serial {\n  display: flex;\n  flex-direction: column;\n  align-items: center;\n  background-color: var(--sklearn-color-background);\n  padding-right: 1em;\n  padding-left: 1em;\n}\n\n\n/* Toggleable style: style used for estimator/Pipeline/ColumnTransformer box that is\nclickable and can be expanded/collapsed.\n- Pipeline and ColumnTransformer use this feature and define the default style\n- Estimators will overwrite some part of the style using the `sk-estimator` class\n*/\n\n/* Pipeline and ColumnTransformer style (default) */\n\n#sk-container-id-19 div.sk-toggleable {\n  /* Default theme specific background. It is overwritten whether we have a\n  specific estimator or a Pipeline/ColumnTransformer */\n  background-color: var(--sklearn-color-background);\n}\n\n/* Toggleable label */\n#sk-container-id-19 label.sk-toggleable__label {\n  cursor: pointer;\n  display: block;\n  width: 100%;\n  margin-bottom: 0;\n  padding: 0.5em;\n  box-sizing: border-box;\n  text-align: center;\n}\n\n#sk-container-id-19 label.sk-toggleable__label-arrow:before {\n  /* Arrow on the left of the label */\n  content: \"▸\";\n  float: left;\n  margin-right: 0.25em;\n  color: var(--sklearn-color-icon);\n}\n\n#sk-container-id-19 label.sk-toggleable__label-arrow:hover:before {\n  color: var(--sklearn-color-text);\n}\n\n/* Toggleable content - dropdown */\n\n#sk-container-id-19 div.sk-toggleable__content {\n  max-height: 0;\n  max-width: 0;\n  overflow: hidden;\n  text-align: left;\n  /* unfitted */\n  background-color: var(--sklearn-color-unfitted-level-0);\n}\n\n#sk-container-id-19 div.sk-toggleable__content.fitted {\n  /* fitted */\n  background-color: var(--sklearn-color-fitted-level-0);\n}\n\n#sk-container-id-19 div.sk-toggleable__content pre {\n  margin: 0.2em;\n  border-radius: 0.25em;\n  color: var(--sklearn-color-text);\n  /* unfitted */\n  background-color: var(--sklearn-color-unfitted-level-0);\n}\n\n#sk-container-id-19 div.sk-toggleable__content.fitted pre {\n  /* unfitted */\n  background-color: var(--sklearn-color-fitted-level-0);\n}\n\n#sk-container-id-19 input.sk-toggleable__control:checked~div.sk-toggleable__content {\n  /* Expand drop-down */\n  max-height: 200px;\n  max-width: 100%;\n  overflow: auto;\n}\n\n#sk-container-id-19 input.sk-toggleable__control:checked~label.sk-toggleable__label-arrow:before {\n  content: \"▾\";\n}\n\n/* Pipeline/ColumnTransformer-specific style */\n\n#sk-container-id-19 div.sk-label input.sk-toggleable__control:checked~label.sk-toggleable__label {\n  color: var(--sklearn-color-text);\n  background-color: var(--sklearn-color-unfitted-level-2);\n}\n\n#sk-container-id-19 div.sk-label.fitted input.sk-toggleable__control:checked~label.sk-toggleable__label {\n  background-color: var(--sklearn-color-fitted-level-2);\n}\n\n/* Estimator-specific style */\n\n/* Colorize estimator box */\n#sk-container-id-19 div.sk-estimator input.sk-toggleable__control:checked~label.sk-toggleable__label {\n  /* unfitted */\n  background-color: var(--sklearn-color-unfitted-level-2);\n}\n\n#sk-container-id-19 div.sk-estimator.fitted input.sk-toggleable__control:checked~label.sk-toggleable__label {\n  /* fitted */\n  background-color: var(--sklearn-color-fitted-level-2);\n}\n\n#sk-container-id-19 div.sk-label label.sk-toggleable__label,\n#sk-container-id-19 div.sk-label label {\n  /* The background is the default theme color */\n  color: var(--sklearn-color-text-on-default-background);\n}\n\n/* On hover, darken the color of the background */\n#sk-container-id-19 div.sk-label:hover label.sk-toggleable__label {\n  color: var(--sklearn-color-text);\n  background-color: var(--sklearn-color-unfitted-level-2);\n}\n\n/* Label box, darken color on hover, fitted */\n#sk-container-id-19 div.sk-label.fitted:hover label.sk-toggleable__label.fitted {\n  color: var(--sklearn-color-text);\n  background-color: var(--sklearn-color-fitted-level-2);\n}\n\n/* Estimator label */\n\n#sk-container-id-19 div.sk-label label {\n  font-family: monospace;\n  font-weight: bold;\n  display: inline-block;\n  line-height: 1.2em;\n}\n\n#sk-container-id-19 div.sk-label-container {\n  text-align: center;\n}\n\n/* Estimator-specific */\n#sk-container-id-19 div.sk-estimator {\n  font-family: monospace;\n  border: 1px dotted var(--sklearn-color-border-box);\n  border-radius: 0.25em;\n  box-sizing: border-box;\n  margin-bottom: 0.5em;\n  /* unfitted */\n  background-color: var(--sklearn-color-unfitted-level-0);\n}\n\n#sk-container-id-19 div.sk-estimator.fitted {\n  /* fitted */\n  background-color: var(--sklearn-color-fitted-level-0);\n}\n\n/* on hover */\n#sk-container-id-19 div.sk-estimator:hover {\n  /* unfitted */\n  background-color: var(--sklearn-color-unfitted-level-2);\n}\n\n#sk-container-id-19 div.sk-estimator.fitted:hover {\n  /* fitted */\n  background-color: var(--sklearn-color-fitted-level-2);\n}\n\n/* Specification for estimator info (e.g. \"i\" and \"?\") */\n\n/* Common style for \"i\" and \"?\" */\n\n.sk-estimator-doc-link,\na:link.sk-estimator-doc-link,\na:visited.sk-estimator-doc-link {\n  float: right;\n  font-size: smaller;\n  line-height: 1em;\n  font-family: monospace;\n  background-color: var(--sklearn-color-background);\n  border-radius: 1em;\n  height: 1em;\n  width: 1em;\n  text-decoration: none !important;\n  margin-left: 1ex;\n  /* unfitted */\n  border: var(--sklearn-color-unfitted-level-1) 1pt solid;\n  color: var(--sklearn-color-unfitted-level-1);\n}\n\n.sk-estimator-doc-link.fitted,\na:link.sk-estimator-doc-link.fitted,\na:visited.sk-estimator-doc-link.fitted {\n  /* fitted */\n  border: var(--sklearn-color-fitted-level-1) 1pt solid;\n  color: var(--sklearn-color-fitted-level-1);\n}\n\n/* On hover */\ndiv.sk-estimator:hover .sk-estimator-doc-link:hover,\n.sk-estimator-doc-link:hover,\ndiv.sk-label-container:hover .sk-estimator-doc-link:hover,\n.sk-estimator-doc-link:hover {\n  /* unfitted */\n  background-color: var(--sklearn-color-unfitted-level-3);\n  color: var(--sklearn-color-background);\n  text-decoration: none;\n}\n\ndiv.sk-estimator.fitted:hover .sk-estimator-doc-link.fitted:hover,\n.sk-estimator-doc-link.fitted:hover,\ndiv.sk-label-container:hover .sk-estimator-doc-link.fitted:hover,\n.sk-estimator-doc-link.fitted:hover {\n  /* fitted */\n  background-color: var(--sklearn-color-fitted-level-3);\n  color: var(--sklearn-color-background);\n  text-decoration: none;\n}\n\n/* Span, style for the box shown on hovering the info icon */\n.sk-estimator-doc-link span {\n  display: none;\n  z-index: 9999;\n  position: relative;\n  font-weight: normal;\n  right: .2ex;\n  padding: .5ex;\n  margin: .5ex;\n  width: min-content;\n  min-width: 20ex;\n  max-width: 50ex;\n  color: var(--sklearn-color-text);\n  box-shadow: 2pt 2pt 4pt #999;\n  /* unfitted */\n  background: var(--sklearn-color-unfitted-level-0);\n  border: .5pt solid var(--sklearn-color-unfitted-level-3);\n}\n\n.sk-estimator-doc-link.fitted span {\n  /* fitted */\n  background: var(--sklearn-color-fitted-level-0);\n  border: var(--sklearn-color-fitted-level-3);\n}\n\n.sk-estimator-doc-link:hover span {\n  display: block;\n}\n\n/* \"?\"-specific style due to the `<a>` HTML tag */\n\n#sk-container-id-19 a.estimator_doc_link {\n  float: right;\n  font-size: 1rem;\n  line-height: 1em;\n  font-family: monospace;\n  background-color: var(--sklearn-color-background);\n  border-radius: 1rem;\n  height: 1rem;\n  width: 1rem;\n  text-decoration: none;\n  /* unfitted */\n  color: var(--sklearn-color-unfitted-level-1);\n  border: var(--sklearn-color-unfitted-level-1) 1pt solid;\n}\n\n#sk-container-id-19 a.estimator_doc_link.fitted {\n  /* fitted */\n  border: var(--sklearn-color-fitted-level-1) 1pt solid;\n  color: var(--sklearn-color-fitted-level-1);\n}\n\n/* On hover */\n#sk-container-id-19 a.estimator_doc_link:hover {\n  /* unfitted */\n  background-color: var(--sklearn-color-unfitted-level-3);\n  color: var(--sklearn-color-background);\n  text-decoration: none;\n}\n\n#sk-container-id-19 a.estimator_doc_link.fitted:hover {\n  /* fitted */\n  background-color: var(--sklearn-color-fitted-level-3);\n}\n</style><div id=\"sk-container-id-19\" class=\"sk-top-container\"><div class=\"sk-text-repr-fallback\"><pre>DecisionTreeClassifier(max_depth=5, random_state=17)</pre><b>In a Jupyter environment, please rerun this cell to show the HTML representation or trust the notebook. <br />On GitHub, the HTML representation is unable to render, please try loading this page with nbviewer.org.</b></div><div class=\"sk-container\" hidden><div class=\"sk-item\"><div class=\"sk-estimator fitted sk-toggleable\"><input class=\"sk-toggleable__control sk-hidden--visually\" id=\"sk-estimator-id-19\" type=\"checkbox\" checked><label for=\"sk-estimator-id-19\" class=\"sk-toggleable__label fitted sk-toggleable__label-arrow fitted\">&nbsp;&nbsp;DecisionTreeClassifier<a class=\"sk-estimator-doc-link fitted\" rel=\"noreferrer\" target=\"_blank\" href=\"https://scikit-learn.org/1.4/modules/generated/sklearn.tree.DecisionTreeClassifier.html\">?<span>Documentation for DecisionTreeClassifier</span></a><span class=\"sk-estimator-doc-link fitted\">i<span>Fitted</span></span></label><div class=\"sk-toggleable__content fitted\"><pre>DecisionTreeClassifier(max_depth=5, random_state=17)</pre></div> </div></div></div></div>"
     },
     "execution_count": 248,
     "metadata": {},
     "output_type": "execute_result"
    }
   ],
   "source": [
    "# 2 Дерево решений — хорошо\n",
    "# 3 Случайный лес не делаем, поскольку дерево решение окейно отработало, методы очень схожи\n",
    "tree = DecisionTreeClassifier(max_depth=5, random_state=17) # multi_class тут не нужен\n",
    "tree.fit(X_train, y_train)"
   ],
   "metadata": {
    "collapsed": false,
    "ExecuteTime": {
     "end_time": "2024-05-04T13:43:11.801743Z",
     "start_time": "2024-05-04T13:43:11.747924Z"
    }
   },
   "id": "55264a2245bcf9ac"
  },
  {
   "cell_type": "code",
   "execution_count": 249,
   "outputs": [
    {
     "name": "stdout",
     "output_type": "stream",
     "text": [
      "Decision Tree Classifier Confusion Matrix:\n",
      "[[134  11   0   0]\n",
      " [  9 111  22   0]\n",
      " [  0  25 124  20]\n",
      " [  0   0  15 129]]\n",
      "Decision Tree Classifier Classification Report:\n",
      "              precision    recall  f1-score   support\n",
      "\n",
      "           0       0.94      0.92      0.93       145\n",
      "           1       0.76      0.78      0.77       142\n",
      "           2       0.77      0.73      0.75       169\n",
      "           3       0.87      0.90      0.88       144\n",
      "\n",
      "    accuracy                           0.83       600\n",
      "   macro avg       0.83      0.83      0.83       600\n",
      "weighted avg       0.83      0.83      0.83       600\n"
     ]
    }
   ],
   "source": [
    "y_pred = tree.predict(X_test)\n",
    "\n",
    "print(f'Decision Tree Classifier Confusion Matrix:\\n{confusion_matrix(y_test, y_pred)}')\n",
    "print(f'Decision Tree Classifier Classification Report:\\n{classification_report(y_test, y_pred)}')"
   ],
   "metadata": {
    "collapsed": false,
    "ExecuteTime": {
     "end_time": "2024-05-04T13:43:11.801836Z",
     "start_time": "2024-05-04T13:43:11.756312Z"
    }
   },
   "id": "b520b0dceada7b95"
  },
  {
   "cell_type": "code",
   "execution_count": 250,
   "outputs": [
    {
     "name": "stdout",
     "output_type": "stream",
     "text": [
      "svm Confusion Matrix:\n",
      "[[144   1   0   0]\n",
      " [  7 129   6   0]\n",
      " [  0   7 160   2]\n",
      " [  0   0   3 141]]\n",
      "svm Classification Report:\n",
      "              precision    recall  f1-score   support\n",
      "\n",
      "           0       0.95      0.99      0.97       145\n",
      "           1       0.94      0.91      0.92       142\n",
      "           2       0.95      0.95      0.95       169\n",
      "           3       0.99      0.98      0.98       144\n",
      "\n",
      "    accuracy                           0.96       600\n",
      "   macro avg       0.96      0.96      0.96       600\n",
      "weighted avg       0.96      0.96      0.96       600\n"
     ]
    }
   ],
   "source": [
    "# 4 Метод опорных векторов — отлично\n",
    "# SVM (Support Vector Machine) и SVC (Support Vector Classification)\n",
    "# Создаем гиперплоскость\n",
    "# linear —  accuracy 0.96\n",
    "# poly — accuracy 0.79\n",
    "# rbf — 0.87\n",
    "model = SVC(kernel='linear') # с linear работает лучше\n",
    "\n",
    "model.fit(scaled_X_train, y_train)\n",
    "y_pred = model.predict(scaled_X_test)\n",
    "\n",
    "print(f'svm Confusion Matrix:\\n{confusion_matrix(y_test, y_pred)}')\n",
    "print(f'svm Classification Report:\\n{classification_report(y_test, y_pred)}')"
   ],
   "metadata": {
    "collapsed": false,
    "ExecuteTime": {
     "end_time": "2024-05-04T13:43:11.802270Z",
     "start_time": "2024-05-04T13:43:11.763278Z"
    }
   },
   "id": "58959455c044cf96"
  },
  {
   "cell_type": "code",
   "execution_count": 251,
   "outputs": [
    {
     "name": "stdout",
     "output_type": "stream",
     "text": [
      "Naive Bayes Confusion Matrix:\n",
      "[[145   0   0   0]\n",
      " [  0 142   0   0]\n",
      " [  0   0 169   0]\n",
      " [  0   0   0 144]]\n",
      "Naive Bayes Classification Report:\n",
      "              precision    recall  f1-score   support\n",
      "\n",
      "           0       1.00      1.00      1.00       145\n",
      "           1       1.00      1.00      1.00       142\n",
      "           2       1.00      1.00      1.00       169\n",
      "           3       1.00      1.00      1.00       144\n",
      "\n",
      "    accuracy                           1.00       600\n",
      "   macro avg       1.00      1.00      1.00       600\n",
      "weighted avg       1.00      1.00      1.00       600\n"
     ]
    }
   ],
   "source": [
    "# 5.1 Наивный количественный Байесовский классификатор — нормально\n",
    "dfcopy = df.copy()\n",
    "\n",
    "df = df.drop('blue', axis=1)\n",
    "df = df.drop('dual_sim', axis=1)\n",
    "df = df.drop('four_g', axis=1)\n",
    "df = df.drop('three_g', axis=1)\n",
    "df = df.drop('touch_screen', axis=1)\n",
    "df = df.drop('wifi', axis=1)\n",
    "\n",
    "X = df.copy()\n",
    "\n",
    "# разделение данных\n",
    "RANDOM_STATE = 37\n",
    "# Всего 2000 записей, 0.3 * 2000 = 600 — на тесты, 2000 - 600 = 1400 — на обучение\n",
    "X_train, X_test, y_train, y_test = train_test_split(X, y, test_size=0.3, random_state=RANDOM_STATE)\n",
    "\n",
    "scaler = StandardScaler()\n",
    "scaled_X_train = scaler.fit_transform(X_train)\n",
    "scaled_X_test = scaler.transform(X_test)\n",
    "\n",
    "model = GaussianNB()\n",
    "\n",
    "model.fit(scaled_X_train, y_train)\n",
    "y_pred = model.predict(scaled_X_test)\n",
    "\n",
    "print(f'Naive Bayes Confusion Matrix:\\n{confusion_matrix(y_test, y_pred)}')\n",
    "print(f'Naive Bayes Classification Report:\\n{classification_report(y_test, y_pred)}')"
   ],
   "metadata": {
    "collapsed": false,
    "ExecuteTime": {
     "end_time": "2024-05-04T13:43:11.805910Z",
     "start_time": "2024-05-04T13:43:11.794304Z"
    }
   },
   "id": "71b73e179acb09d8"
  },
  {
   "cell_type": "code",
   "execution_count": 252,
   "outputs": [
    {
     "name": "stdout",
     "output_type": "stream",
     "text": [
      "Naive Bayes Confusion Matrix:\n",
      "[[ 36  75  34   0]\n",
      " [ 41  73  28   0]\n",
      " [ 44  88  37   0]\n",
      " [  0   0   0 144]]\n",
      "Naive Bayes Classification Report:\n",
      "              precision    recall  f1-score   support\n",
      "\n",
      "           0       0.30      0.25      0.27       145\n",
      "           1       0.31      0.51      0.39       142\n",
      "           2       0.37      0.22      0.28       169\n",
      "           3       1.00      1.00      1.00       144\n",
      "\n",
      "    accuracy                           0.48       600\n",
      "   macro avg       0.50      0.50      0.48       600\n",
      "weighted avg       0.49      0.48      0.47       600\n"
     ]
    }
   ],
   "source": [
    "# 5.2 Наивный категориальный Байесовский классификатор — нормально\n",
    "df = dfcopy.copy()\n",
    "\n",
    "df = df.drop('battery_power', axis=1)\n",
    "df = df.drop('clock_speed', axis=1)\n",
    "df = df.drop('fc', axis=1)\n",
    "df = df.drop('int_memory', axis=1)\n",
    "df = df.drop('m_dep', axis=1)\n",
    "df = df.drop('mobile_wt', axis=1)\n",
    "df = df.drop('n_cores', axis=1)\n",
    "df = df.drop('pc', axis=1)\n",
    "df = df.drop('px_height', axis=1)\n",
    "df = df.drop('px_width', axis=1)\n",
    "df = df.drop('ram', axis=1)\n",
    "df = df.drop('sc_h', axis=1)\n",
    "df = df.drop('sc_w', axis=1)\n",
    "df = df.drop('talk_time', axis=1)\n",
    "\n",
    "X = df.copy()\n",
    "\n",
    "# разделение данных\n",
    "RANDOM_STATE = 37\n",
    "# Всего 2000 записей, 0.3 * 2000 = 600 — на тесты, 2000 - 600 = 1400 — на обучение\n",
    "X_train, X_test, y_train, y_test = train_test_split(X, y, test_size=0.3, random_state=RANDOM_STATE)\n",
    "\n",
    "scaler = MinMaxScaler()\n",
    "scaled_X_train = scaler.fit_transform(X_train)\n",
    "scaled_X_test = scaler.transform(X_test)\n",
    "\n",
    "model = CategoricalNB()\n",
    "\n",
    "model.fit(scaled_X_train, y_train)\n",
    "y_pred = model.predict(scaled_X_test)\n",
    "\n",
    "print(f'Naive Bayes Confusion Matrix:\\n{confusion_matrix(y_test, y_pred)}')\n",
    "print(f'Naive Bayes Classification Report:\\n{classification_report(y_test, y_pred)}')"
   ],
   "metadata": {
    "collapsed": false,
    "ExecuteTime": {
     "end_time": "2024-05-04T13:43:11.815830Z",
     "start_time": "2024-05-04T13:43:11.805178Z"
    }
   },
   "id": "d3662289b1d88e31"
  }
 ],
 "metadata": {
  "kernelspec": {
   "display_name": "Python 3",
   "language": "python",
   "name": "python3"
  },
  "language_info": {
   "codemirror_mode": {
    "name": "ipython",
    "version": 2
   },
   "file_extension": ".py",
   "mimetype": "text/x-python",
   "name": "python",
   "nbconvert_exporter": "python",
   "pygments_lexer": "ipython2",
   "version": "2.7.6"
  }
 },
 "nbformat": 4,
 "nbformat_minor": 5
}
